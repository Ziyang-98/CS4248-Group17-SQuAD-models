{
 "cells": [
  {
   "cell_type": "markdown",
   "metadata": {},
   "source": [
    "# Model 4 - DistilBERT"
   ]
  },
  {
   "cell_type": "code",
   "execution_count": 1,
   "metadata": {
    "id": "NxM0BiRSc2Cv"
   },
   "outputs": [
    {
     "name": "stderr",
     "output_type": "stream",
     "text": [
      "c:\\Users\\angso\\AppData\\Local\\Programs\\Python\\Python311\\Lib\\site-packages\\tqdm\\auto.py:22: TqdmWarning: IProgress not found. Please update jupyter and ipywidgets. See https://ipywidgets.readthedocs.io/en/stable/user_install.html\n",
      "  from .autonotebook import tqdm as notebook_tqdm\n"
     ]
    }
   ],
   "source": [
    "import numpy as np\n",
    "\n",
    "import pandas as pd\n",
    "\n",
    "import tensorflow as tf\n",
    "import tensorflow_datasets as tfds\n",
    "\n",
    "from transformers import pipeline"
   ]
  },
  {
   "cell_type": "code",
   "execution_count": 2,
   "metadata": {
    "id": "BJ9v8ULZdzIA"
   },
   "outputs": [
    {
     "name": "stdout",
     "output_type": "stream",
     "text": [
      "Python 3.11.2\n"
     ]
    }
   ],
   "source": [
    "!python --version"
   ]
  },
  {
   "cell_type": "code",
   "execution_count": 3,
   "metadata": {
    "id": "s-1TJAfP8YXg"
   },
   "outputs": [
    {
     "data": {
      "text/plain": [
       "'2.12.0-rc1'"
      ]
     },
     "execution_count": 3,
     "metadata": {},
     "output_type": "execute_result"
    }
   ],
   "source": [
    "tf. __version__"
   ]
  },
  {
   "cell_type": "markdown",
   "metadata": {
    "id": "DEodIiXtpVkG"
   },
   "source": [
    "# 1. Load data"
   ]
  },
  {
   "cell_type": "code",
   "execution_count": 4,
   "metadata": {
    "id": "ZPwG-szqpVkI"
   },
   "outputs": [
    {
     "name": "stderr",
     "output_type": "stream",
     "text": [
      "WARNING:absl:`TensorInfo.dtype` is deprecated. Please change your code to use NumPy with the field `TensorInfo.np_dtype` or use TensorFlow with the field `TensorInfo.tf_dtype`.\n",
      "WARNING:absl:You use TensorFlow DType <dtype: 'int32'> in tfds.features This will soon be deprecated in favor of NumPy DTypes. In the meantime it was converted to int32.\n",
      "WARNING:absl:`TensorInfo.dtype` is deprecated. Please change your code to use NumPy with the field `TensorInfo.np_dtype` or use TensorFlow with the field `TensorInfo.tf_dtype`.\n",
      "WARNING:absl:You use TensorFlow DType <dtype: 'string'> in tfds.features This will soon be deprecated in favor of NumPy DTypes. In the meantime it was converted to object.\n"
     ]
    }
   ],
   "source": [
    "# Load and split into training and validation datasets\n",
    "dataset = tfds.load('squad/v1.1')\n",
    "train_ds = dataset['train']\n",
    "val_ds = dataset['validation']"
   ]
  },
  {
   "cell_type": "code",
   "execution_count": 5,
   "metadata": {
    "id": "T389sZz5pVkJ"
   },
   "outputs": [],
   "source": [
    "# Extract relevant data from training and validation datasets\n",
    "def extract_data(instance):\n",
    "    paragraph = instance['context']\n",
    "    question = instance['question']\n",
    "    answer = instance['answers']['text'][0]\n",
    "    answer_start = instance['answers']['answer_start'][0]\n",
    "    return paragraph, question, answer, answer_start\n",
    "\n",
    "train_ds = pd.DataFrame(train_ds.map(extract_data).as_numpy_iterator())\n",
    "val_ds = pd.DataFrame(val_ds.map(extract_data).as_numpy_iterator())\n",
    "\n",
    "headers = ['Paragraph', 'Question', 'Answer', 'Answer Start']\n",
    "train_ds.columns = headers\n",
    "val_ds.columns = headers"
   ]
  },
  {
   "cell_type": "code",
   "execution_count": 6,
   "metadata": {
    "id": "Rl2z_fVfpVkK"
   },
   "outputs": [
    {
     "data": {
      "text/html": [
       "<div>\n",
       "<style scoped>\n",
       "    .dataframe tbody tr th:only-of-type {\n",
       "        vertical-align: middle;\n",
       "    }\n",
       "\n",
       "    .dataframe tbody tr th {\n",
       "        vertical-align: top;\n",
       "    }\n",
       "\n",
       "    .dataframe thead th {\n",
       "        text-align: right;\n",
       "    }\n",
       "</style>\n",
       "<table border=\"1\" class=\"dataframe\">\n",
       "  <thead>\n",
       "    <tr style=\"text-align: right;\">\n",
       "      <th></th>\n",
       "      <th>Paragraph</th>\n",
       "      <th>Question</th>\n",
       "      <th>Answer</th>\n",
       "      <th>Answer Start</th>\n",
       "    </tr>\n",
       "  </thead>\n",
       "  <tbody>\n",
       "    <tr>\n",
       "      <th>0</th>\n",
       "      <td>b'The difference in the above factors for the ...</td>\n",
       "      <td>b'What is one use that would require an antenn...</td>\n",
       "      <td>b'mobile phones'</td>\n",
       "      <td>427</td>\n",
       "    </tr>\n",
       "    <tr>\n",
       "      <th>1</th>\n",
       "      <td>b\"The coronation of Charlemagne as emperor on ...</td>\n",
       "      <td>b'About how many counts existed in the Carolin...</td>\n",
       "      <td>b'300'</td>\n",
       "      <td>1020</td>\n",
       "    </tr>\n",
       "    <tr>\n",
       "      <th>2</th>\n",
       "      <td>b'Plant responses to climate and other environ...</td>\n",
       "      <td>b'How can climate changes be determined from s...</td>\n",
       "      <td>b'fossil pollen deposits in sediments'</td>\n",
       "      <td>339</td>\n",
       "    </tr>\n",
       "    <tr>\n",
       "      <th>3</th>\n",
       "      <td>b'The Tucson metro area is served by many loca...</td>\n",
       "      <td>b\"What is Tucson's Fox station?\"</td>\n",
       "      <td>b'KMSB-TV 11'</td>\n",
       "      <td>347</td>\n",
       "    </tr>\n",
       "    <tr>\n",
       "      <th>4</th>\n",
       "      <td>b\"Situated on one of the world's largest natur...</td>\n",
       "      <td>b'What is the size of New York City in square ...</td>\n",
       "      <td>b'305'</td>\n",
       "      <td>367</td>\n",
       "    </tr>\n",
       "  </tbody>\n",
       "</table>\n",
       "</div>"
      ],
      "text/plain": [
       "                                           Paragraph  \\\n",
       "0  b'The difference in the above factors for the ...   \n",
       "1  b\"The coronation of Charlemagne as emperor on ...   \n",
       "2  b'Plant responses to climate and other environ...   \n",
       "3  b'The Tucson metro area is served by many loca...   \n",
       "4  b\"Situated on one of the world's largest natur...   \n",
       "\n",
       "                                            Question  \\\n",
       "0  b'What is one use that would require an antenn...   \n",
       "1  b'About how many counts existed in the Carolin...   \n",
       "2  b'How can climate changes be determined from s...   \n",
       "3                   b\"What is Tucson's Fox station?\"   \n",
       "4  b'What is the size of New York City in square ...   \n",
       "\n",
       "                                   Answer  Answer Start  \n",
       "0                        b'mobile phones'           427  \n",
       "1                                  b'300'          1020  \n",
       "2  b'fossil pollen deposits in sediments'           339  \n",
       "3                           b'KMSB-TV 11'           347  \n",
       "4                                  b'305'           367  "
      ]
     },
     "execution_count": 6,
     "metadata": {},
     "output_type": "execute_result"
    }
   ],
   "source": [
    "train_ds.head()"
   ]
  },
  {
   "cell_type": "markdown",
   "metadata": {},
   "source": [
    "# 2. Get answer's end character position"
   ]
  },
  {
   "cell_type": "code",
   "execution_count": 7,
   "metadata": {},
   "outputs": [],
   "source": [
    "# Get start and end character position of answer in paragraph\n",
    "def get_answer_char_pos(row):\n",
    "    paragraph, answer, answer_start = row['Paragraph'], row['Answer'], row['Answer Start']\n",
    "    answer_end = answer_start + len(answer)\n",
    "\n",
    "    # Check if SQuAD answers are off by one or two characters\n",
    "    if paragraph[answer_start-1:answer_end-1] == answer:\n",
    "        return [answer_start-1, answer_end-1]\n",
    "    elif paragraph[answer_start-2:answer_end-2] == answer:\n",
    "        return [answer_start-2, answer_end-2]\n",
    "    else:\n",
    "        return [answer_start, answer_end]\n",
    "\n",
    "train_ds['Answer'] = train_ds.apply(get_answer_char_pos, axis=1)\n",
    "train_ds = train_ds.drop('Answer Start', axis=1)\n",
    "\n",
    "val_ds['Answer'] = val_ds.apply(get_answer_char_pos, axis=1)\n",
    "val_ds = val_ds.drop('Answer Start', axis=1)"
   ]
  },
  {
   "cell_type": "code",
   "execution_count": 8,
   "metadata": {},
   "outputs": [
    {
     "data": {
      "text/html": [
       "<div>\n",
       "<style scoped>\n",
       "    .dataframe tbody tr th:only-of-type {\n",
       "        vertical-align: middle;\n",
       "    }\n",
       "\n",
       "    .dataframe tbody tr th {\n",
       "        vertical-align: top;\n",
       "    }\n",
       "\n",
       "    .dataframe thead th {\n",
       "        text-align: right;\n",
       "    }\n",
       "</style>\n",
       "<table border=\"1\" class=\"dataframe\">\n",
       "  <thead>\n",
       "    <tr style=\"text-align: right;\">\n",
       "      <th></th>\n",
       "      <th>Paragraph</th>\n",
       "      <th>Question</th>\n",
       "      <th>Answer</th>\n",
       "    </tr>\n",
       "  </thead>\n",
       "  <tbody>\n",
       "    <tr>\n",
       "      <th>0</th>\n",
       "      <td>b'The difference in the above factors for the ...</td>\n",
       "      <td>b'What is one use that would require an antenn...</td>\n",
       "      <td>[427, 440]</td>\n",
       "    </tr>\n",
       "    <tr>\n",
       "      <th>1</th>\n",
       "      <td>b\"The coronation of Charlemagne as emperor on ...</td>\n",
       "      <td>b'About how many counts existed in the Carolin...</td>\n",
       "      <td>[1020, 1023]</td>\n",
       "    </tr>\n",
       "    <tr>\n",
       "      <th>2</th>\n",
       "      <td>b'Plant responses to climate and other environ...</td>\n",
       "      <td>b'How can climate changes be determined from s...</td>\n",
       "      <td>[339, 374]</td>\n",
       "    </tr>\n",
       "    <tr>\n",
       "      <th>3</th>\n",
       "      <td>b'The Tucson metro area is served by many loca...</td>\n",
       "      <td>b\"What is Tucson's Fox station?\"</td>\n",
       "      <td>[347, 357]</td>\n",
       "    </tr>\n",
       "    <tr>\n",
       "      <th>4</th>\n",
       "      <td>b\"Situated on one of the world's largest natur...</td>\n",
       "      <td>b'What is the size of New York City in square ...</td>\n",
       "      <td>[367, 370]</td>\n",
       "    </tr>\n",
       "  </tbody>\n",
       "</table>\n",
       "</div>"
      ],
      "text/plain": [
       "                                           Paragraph  \\\n",
       "0  b'The difference in the above factors for the ...   \n",
       "1  b\"The coronation of Charlemagne as emperor on ...   \n",
       "2  b'Plant responses to climate and other environ...   \n",
       "3  b'The Tucson metro area is served by many loca...   \n",
       "4  b\"Situated on one of the world's largest natur...   \n",
       "\n",
       "                                            Question        Answer  \n",
       "0  b'What is one use that would require an antenn...    [427, 440]  \n",
       "1  b'About how many counts existed in the Carolin...  [1020, 1023]  \n",
       "2  b'How can climate changes be determined from s...    [339, 374]  \n",
       "3                   b\"What is Tucson's Fox station?\"    [347, 357]  \n",
       "4  b'What is the size of New York City in square ...    [367, 370]  "
      ]
     },
     "execution_count": 8,
     "metadata": {},
     "output_type": "execute_result"
    }
   ],
   "source": [
    "train_ds.head()"
   ]
  },
  {
   "cell_type": "markdown",
   "metadata": {
    "id": "JGuOHVGdpVkL"
   },
   "source": [
    "# 3. Run DistilBERT model"
   ]
  },
  {
   "cell_type": "code",
   "execution_count": 9,
   "metadata": {
    "id": "RRaLqYB5W6Bu"
   },
   "outputs": [],
   "source": [
    "paragraph_val, question_val = val_ds['Paragraph'].tolist(), val_ds['Question'].tolist()\n",
    "paragraph_val = [text.decode('utf-8') for text in paragraph_val]\n",
    "question_val = [text.decode('utf-8') for text in question_val]\n",
    "\n",
    "labels = val_ds['Answer'].tolist()"
   ]
  },
  {
   "cell_type": "code",
   "execution_count": 10,
   "metadata": {},
   "outputs": [
    {
     "name": "stderr",
     "output_type": "stream",
     "text": [
      "All model checkpoint layers were used when initializing TFDistilBertForQuestionAnswering.\n",
      "\n",
      "All the layers of TFDistilBertForQuestionAnswering were initialized from the model checkpoint at distilbert-base-uncased-distilled-squad.\n",
      "If your task is similar to the task the model of the checkpoint was trained on, you can already use TFDistilBertForQuestionAnswering for predictions without further training.\n"
     ]
    }
   ],
   "source": [
    "model = pipeline('question-answering', model='distilbert-base-uncased-distilled-squad')\n",
    "\n",
    "predictions = []\n",
    "\n",
    "for paragraph, question in zip(paragraph_val, question_val):\n",
    "    prediction = model(question=question, context=paragraph)\n",
    "    start_pred, end_pred = prediction['start'], prediction['end']\n",
    "    predictions.append([start_pred, end_pred])"
   ]
  },
  {
   "cell_type": "markdown",
   "metadata": {
    "id": "TFI3uKhAsWD9"
   },
   "source": [
    "# 4. Evaluate DistilBERT model"
   ]
  },
  {
   "cell_type": "code",
   "execution_count": 11,
   "metadata": {},
   "outputs": [
    {
     "name": "stdout",
     "output_type": "stream",
     "text": [
      "[[479, 499], [218, 242], [826, 867], [28, 42], [402, 410]]\n",
      "[[479, 499], [218, 234], [770, 782], [28, 42], [402, 410]]\n"
     ]
    }
   ],
   "source": [
    "print(labels[:5])\n",
    "print(predictions[:5])"
   ]
  },
  {
   "cell_type": "code",
   "execution_count": 12,
   "metadata": {
    "id": "lEMX3LojsY1A"
   },
   "outputs": [],
   "source": [
    "def exact_match(y_true, y_pred):\n",
    "    start_true, end_true = y_true[0], y_true[1]\n",
    "    start_pred, end_pred = y_pred[0], y_pred[1]\n",
    "\n",
    "    if start_pred != start_true or end_pred != end_true:\n",
    "        return float(0)\n",
    "    else:\n",
    "        return float(1)\n",
    "\n",
    "def f1_score(y_true, y_pred):\n",
    "    start_true, end_true = y_true[0], y_true[1]\n",
    "    start_pred, end_pred = y_pred[0], y_pred[1]\n",
    "\n",
    "    predicted_tokens = set(range(start_pred, end_pred + 1))\n",
    "    true_tokens = set(range(start_true, end_true + 1))\n",
    "    common_tokens = predicted_tokens.intersection(true_tokens)\n",
    "    precision = len(common_tokens) / len(predicted_tokens) if len(predicted_tokens) > 0 else 0\n",
    "    recall = len(common_tokens) / len(true_tokens) if len(true_tokens) > 0 else 0\n",
    "    return float(2 * precision * recall / (precision + recall) if precision + recall > 0 else 0)"
   ]
  },
  {
   "cell_type": "code",
   "execution_count": 13,
   "metadata": {},
   "outputs": [
    {
     "name": "stdout",
     "output_type": "stream",
     "text": [
      "Exact match: 0.5698202459791863\n",
      "F1 score: 0.7725855536405953\n"
     ]
    }
   ],
   "source": [
    "exact_match_res = 0\n",
    "f1_score_res = 0\n",
    "count = 0\n",
    "\n",
    "for y_true, y_pred in zip(labels, predictions):\n",
    "    exact_match_res += exact_match(y_true, y_pred)\n",
    "    f1_score_res += f1_score(y_true, y_pred)\n",
    "    count += 1\n",
    "\n",
    "exact_match_res /= count\n",
    "f1_score_res /= count\n",
    "\n",
    "print('Exact match:', exact_match_res)\n",
    "print('F1 score:', f1_score_res)"
   ]
  },
  {
   "cell_type": "code",
   "execution_count": 14,
   "metadata": {},
   "outputs": [],
   "source": [
    "with open('model4.npy', 'wb') as f:\n",
    "    np.save(f, np.array(predictions))"
   ]
  }
 ],
 "metadata": {
  "accelerator": "GPU",
  "colab": {
   "machine_shape": "hm",
   "provenance": []
  },
  "gpuClass": "premium",
  "kernelspec": {
   "display_name": "Python 3 (ipykernel)",
   "language": "python",
   "name": "python3"
  },
  "language_info": {
   "codemirror_mode": {
    "name": "ipython",
    "version": 3
   },
   "file_extension": ".py",
   "mimetype": "text/x-python",
   "name": "python",
   "nbconvert_exporter": "python",
   "pygments_lexer": "ipython3",
   "version": "3.9.16"
  }
 },
 "nbformat": 4,
 "nbformat_minor": 1
}
